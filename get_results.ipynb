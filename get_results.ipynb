{
 "cells": [
  {
   "cell_type": "code",
   "execution_count": 1,
   "metadata": {},
   "outputs": [],
   "source": [
    "import pandas as pd\n",
    "import numpy as np"
   ]
  },
  {
   "cell_type": "code",
   "execution_count": 2,
   "metadata": {},
   "outputs": [],
   "source": [
    "df = pd.read_excel('codes_final.xlsx', index_col=[0])"
   ]
  },
  {
   "cell_type": "code",
   "execution_count": 4,
   "metadata": {},
   "outputs": [
    {
     "data": {
      "text/plain": [
       "array(['Control', 'Cost_Management', 'Service', 'Store', 'Company',\n",
       "       'Data', 'Jira_Performance_Testing_Tools', 'Portfolio', 'Learn',\n",
       "       'Lyrasis Dura Cloud', 'Network_Observability',\n",
       "       'OpenShift_UX_Product_Design', 'Qt_Design_Studio',\n",
       "       'Red_Hat_Developer_Website_v2', nan], dtype=object)"
      ]
     },
     "execution_count": 4,
     "metadata": {},
     "output_type": "execute_result"
    }
   ],
   "source": [
    "df['project_name'].unique()"
   ]
  },
  {
   "cell_type": "code",
   "execution_count": 5,
   "metadata": {},
   "outputs": [],
   "source": [
    "cols = df.columns[-9:]"
   ]
  },
  {
   "cell_type": "code",
   "execution_count": 6,
   "metadata": {},
   "outputs": [],
   "source": [
    "cols_low = [col for col in cols if col.startswith('low')]\n",
    "cols_medium = [col for col in cols if col.startswith('medium')]\n",
    "cols_high = [col for col in cols if col.startswith('high')]"
   ]
  },
  {
   "cell_type": "code",
   "execution_count": 7,
   "metadata": {},
   "outputs": [],
   "source": [
    "industry_projects = ['Company', 'Control', 'Data', 'Learn', 'Portfolio', 'Service', 'Store']\n",
    "oss_projects = ['Cost_Management', 'Jira_Performance_Testing_Tools', 'Lyrasis Dura Cloud', 'Network_Observability', 'OpenShift_UX_Product_Design', 'Qt_Design_Studio', 'Red_Hat_Developer_Website_v2']"
   ]
  },
  {
   "cell_type": "markdown",
   "metadata": {},
   "source": [
    "# RQ1"
   ]
  },
  {
   "cell_type": "code",
   "execution_count": 9,
   "metadata": {},
   "outputs": [],
   "source": [
    "def check_labels_rr(row):\n",
    "    if row['issuetype'] in ['Epic', 'Feature', 'Story', 'User Story', 'Suggestion']:\n",
    "        if (row[cols_high + cols_medium + cols_low].sum() > 0):\n",
    "            return 1\n",
    "        else:\n",
    "            return 0\n",
    "    else:\n",
    "        return -1\n",
    "    \n",
    "def check_labels_task(row):\n",
    "    if row['issuetype'] in ['Task', 'Sub-task', 'Technical task', 'Support-ticket']:\n",
    "        if (row[cols_high + cols_medium + cols_low].sum() > 0):\n",
    "            return 1\n",
    "        else:\n",
    "            return 0\n",
    "    else:\n",
    "        return -1"
   ]
  },
  {
   "cell_type": "code",
   "execution_count": 10,
   "metadata": {},
   "outputs": [],
   "source": [
    "df['check_labels_rr'] = [check_labels_rr(row) for i, row in df.iterrows()]\n",
    "df['check_labels_task'] = [check_labels_task(row) for i, row in df.iterrows()]"
   ]
  },
  {
   "cell_type": "code",
   "execution_count": 11,
   "metadata": {},
   "outputs": [],
   "source": [
    "df_rq1_rr = df[df['check_labels_rr'] != -1]\n",
    "df_rq1_task = df[df['check_labels_task'] != -1]"
   ]
  },
  {
   "cell_type": "code",
   "execution_count": 12,
   "metadata": {},
   "outputs": [],
   "source": [
    "RQ1_rr = df_rq1_rr.groupby(['project_name'])['check_labels_rr'].agg(Sum='sum', Count='count')\n",
    "RQ1_task = df_rq1_task.groupby(['project_name'])['check_labels_task'].agg(Sum='sum', Count='count')\n",
    "RQ1_rr['perc RR'] = (RQ1_rr['Sum']/RQ1_rr['Count']).round(2)\n",
    "RQ1_task['perc Task'] = (RQ1_task['Sum']/RQ1_task['Count']).round(2)"
   ]
  },
  {
   "cell_type": "code",
   "execution_count": 13,
   "metadata": {},
   "outputs": [],
   "source": [
    "RQ1 = RQ1_task.reset_index().merge(RQ1_rr.reset_index(), on = 'project_name', how = 'right')"
   ]
  },
  {
   "cell_type": "code",
   "execution_count": 14,
   "metadata": {},
   "outputs": [],
   "source": [
    "RQ1.to_excel('RQ1.xlsx')"
   ]
  },
  {
   "cell_type": "code",
   "execution_count": 15,
   "metadata": {},
   "outputs": [
    {
     "data": {
      "text/html": [
       "<div>\n",
       "<style scoped>\n",
       "    .dataframe tbody tr th:only-of-type {\n",
       "        vertical-align: middle;\n",
       "    }\n",
       "\n",
       "    .dataframe tbody tr th {\n",
       "        vertical-align: top;\n",
       "    }\n",
       "\n",
       "    .dataframe thead th {\n",
       "        text-align: right;\n",
       "    }\n",
       "</style>\n",
       "<table border=\"1\" class=\"dataframe\">\n",
       "  <thead>\n",
       "    <tr style=\"text-align: right;\">\n",
       "      <th></th>\n",
       "      <th>project_name</th>\n",
       "      <th>Sum_x</th>\n",
       "      <th>Count_x</th>\n",
       "      <th>perc Task</th>\n",
       "      <th>Sum_y</th>\n",
       "      <th>Count_y</th>\n",
       "      <th>perc RR</th>\n",
       "    </tr>\n",
       "  </thead>\n",
       "  <tbody>\n",
       "    <tr>\n",
       "      <th>0</th>\n",
       "      <td>Company</td>\n",
       "      <td>0.0</td>\n",
       "      <td>0.0</td>\n",
       "      <td>0.00</td>\n",
       "      <td>19</td>\n",
       "      <td>29</td>\n",
       "      <td>0.66</td>\n",
       "    </tr>\n",
       "    <tr>\n",
       "      <th>1</th>\n",
       "      <td>Control</td>\n",
       "      <td>3.0</td>\n",
       "      <td>15.0</td>\n",
       "      <td>0.20</td>\n",
       "      <td>65</td>\n",
       "      <td>105</td>\n",
       "      <td>0.62</td>\n",
       "    </tr>\n",
       "    <tr>\n",
       "      <th>2</th>\n",
       "      <td>Cost_Management</td>\n",
       "      <td>16.0</td>\n",
       "      <td>57.0</td>\n",
       "      <td>0.28</td>\n",
       "      <td>71</td>\n",
       "      <td>122</td>\n",
       "      <td>0.58</td>\n",
       "    </tr>\n",
       "    <tr>\n",
       "      <th>3</th>\n",
       "      <td>Data</td>\n",
       "      <td>16.0</td>\n",
       "      <td>22.0</td>\n",
       "      <td>0.73</td>\n",
       "      <td>35</td>\n",
       "      <td>35</td>\n",
       "      <td>1.00</td>\n",
       "    </tr>\n",
       "    <tr>\n",
       "      <th>4</th>\n",
       "      <td>Jira_Performance_Testing_Tools</td>\n",
       "      <td>3.0</td>\n",
       "      <td>20.0</td>\n",
       "      <td>0.15</td>\n",
       "      <td>54</td>\n",
       "      <td>85</td>\n",
       "      <td>0.64</td>\n",
       "    </tr>\n",
       "    <tr>\n",
       "      <th>5</th>\n",
       "      <td>Learn</td>\n",
       "      <td>3.0</td>\n",
       "      <td>12.0</td>\n",
       "      <td>0.25</td>\n",
       "      <td>59</td>\n",
       "      <td>131</td>\n",
       "      <td>0.45</td>\n",
       "    </tr>\n",
       "    <tr>\n",
       "      <th>6</th>\n",
       "      <td>Lyrasis Dura Cloud</td>\n",
       "      <td>2.0</td>\n",
       "      <td>7.0</td>\n",
       "      <td>0.29</td>\n",
       "      <td>79</td>\n",
       "      <td>105</td>\n",
       "      <td>0.75</td>\n",
       "    </tr>\n",
       "    <tr>\n",
       "      <th>7</th>\n",
       "      <td>Network_Observability</td>\n",
       "      <td>0.0</td>\n",
       "      <td>1.0</td>\n",
       "      <td>0.00</td>\n",
       "      <td>42</td>\n",
       "      <td>101</td>\n",
       "      <td>0.42</td>\n",
       "    </tr>\n",
       "    <tr>\n",
       "      <th>8</th>\n",
       "      <td>OpenShift_UX_Product_Design</td>\n",
       "      <td>11.0</td>\n",
       "      <td>14.0</td>\n",
       "      <td>0.79</td>\n",
       "      <td>67</td>\n",
       "      <td>116</td>\n",
       "      <td>0.58</td>\n",
       "    </tr>\n",
       "    <tr>\n",
       "      <th>9</th>\n",
       "      <td>Portfolio</td>\n",
       "      <td>2.0</td>\n",
       "      <td>9.0</td>\n",
       "      <td>0.22</td>\n",
       "      <td>45</td>\n",
       "      <td>88</td>\n",
       "      <td>0.51</td>\n",
       "    </tr>\n",
       "    <tr>\n",
       "      <th>10</th>\n",
       "      <td>Qt_Design_Studio</td>\n",
       "      <td>35.0</td>\n",
       "      <td>118.0</td>\n",
       "      <td>0.30</td>\n",
       "      <td>32</td>\n",
       "      <td>62</td>\n",
       "      <td>0.52</td>\n",
       "    </tr>\n",
       "    <tr>\n",
       "      <th>11</th>\n",
       "      <td>Red_Hat_Developer_Website_v2</td>\n",
       "      <td>0.0</td>\n",
       "      <td>0.0</td>\n",
       "      <td>0.00</td>\n",
       "      <td>76</td>\n",
       "      <td>172</td>\n",
       "      <td>0.44</td>\n",
       "    </tr>\n",
       "    <tr>\n",
       "      <th>12</th>\n",
       "      <td>Service</td>\n",
       "      <td>5.0</td>\n",
       "      <td>37.0</td>\n",
       "      <td>0.14</td>\n",
       "      <td>58</td>\n",
       "      <td>63</td>\n",
       "      <td>0.92</td>\n",
       "    </tr>\n",
       "    <tr>\n",
       "      <th>13</th>\n",
       "      <td>Store</td>\n",
       "      <td>0.0</td>\n",
       "      <td>21.0</td>\n",
       "      <td>0.00</td>\n",
       "      <td>40</td>\n",
       "      <td>81</td>\n",
       "      <td>0.49</td>\n",
       "    </tr>\n",
       "  </tbody>\n",
       "</table>\n",
       "</div>"
      ],
      "text/plain": [
       "                      project_name  Sum_x  Count_x  perc Task  Sum_y  Count_y   \n",
       "0                          Company    0.0      0.0       0.00     19       29  \\\n",
       "1                          Control    3.0     15.0       0.20     65      105   \n",
       "2                  Cost_Management   16.0     57.0       0.28     71      122   \n",
       "3                             Data   16.0     22.0       0.73     35       35   \n",
       "4   Jira_Performance_Testing_Tools    3.0     20.0       0.15     54       85   \n",
       "5                            Learn    3.0     12.0       0.25     59      131   \n",
       "6               Lyrasis Dura Cloud    2.0      7.0       0.29     79      105   \n",
       "7            Network_Observability    0.0      1.0       0.00     42      101   \n",
       "8      OpenShift_UX_Product_Design   11.0     14.0       0.79     67      116   \n",
       "9                        Portfolio    2.0      9.0       0.22     45       88   \n",
       "10                Qt_Design_Studio   35.0    118.0       0.30     32       62   \n",
       "11    Red_Hat_Developer_Website_v2    0.0      0.0       0.00     76      172   \n",
       "12                         Service    5.0     37.0       0.14     58       63   \n",
       "13                           Store    0.0     21.0       0.00     40       81   \n",
       "\n",
       "    perc RR  \n",
       "0      0.66  \n",
       "1      0.62  \n",
       "2      0.58  \n",
       "3      1.00  \n",
       "4      0.64  \n",
       "5      0.45  \n",
       "6      0.75  \n",
       "7      0.42  \n",
       "8      0.58  \n",
       "9      0.51  \n",
       "10     0.52  \n",
       "11     0.44  \n",
       "12     0.92  \n",
       "13     0.49  "
      ]
     },
     "execution_count": 15,
     "metadata": {},
     "output_type": "execute_result"
    }
   ],
   "source": [
    "RQ1.fillna(0)"
   ]
  },
  {
   "cell_type": "code",
   "execution_count": 16,
   "metadata": {},
   "outputs": [
    {
     "name": "stdout",
     "output_type": "stream",
     "text": [
      "For OSS projects:\n",
      "Mean % requirements in Tasks: 0.30, with std of 0.24\n",
      "Mean % requirements in requirements items: 0.56, with std of 0.11 \n",
      "\n"
     ]
    }
   ],
   "source": [
    "print('For OSS projects:')\n",
    "print('Mean % requirements in Tasks: {:0.2f}, with std of {:0.2f}\\nMean % requirements in requirements items: {:0.2f}, with std of {:0.2f} \\n'.format(\n",
    "    np.mean(RQ1[RQ1['project_name'].isin(oss_projects)]['perc Task']),\n",
    "    np.std(RQ1[RQ1['project_name'].isin(oss_projects)]['perc Task']),\n",
    "    np.mean(RQ1[RQ1['project_name'].isin(oss_projects)]['perc RR']), \n",
    "    np.std(RQ1[RQ1['project_name'].isin(oss_projects)]['perc RR'])))"
   ]
  },
  {
   "cell_type": "code",
   "execution_count": 17,
   "metadata": {},
   "outputs": [
    {
     "name": "stdout",
     "output_type": "stream",
     "text": [
      "For industry projects:\n",
      "Mean % requirements in Tasks: 0.26, with std of 0.23\n",
      "Mean % requirements in requirements items: 0.66, with std of 0.20 \n",
      "\n"
     ]
    }
   ],
   "source": [
    "print('For industry projects:')\n",
    "print('Mean % requirements in Tasks: {:0.2f}, with std of {:0.2f}\\nMean % requirements in requirements items: {:0.2f}, with std of {:0.2f} \\n'.format(\n",
    "    np.mean(RQ1[RQ1['project_name'].isin(industry_projects)]['perc Task']),\n",
    "    np.std(RQ1[RQ1['project_name'].isin(industry_projects)]['perc Task']),\n",
    "    np.mean(RQ1[RQ1['project_name'].isin(industry_projects)]['perc RR']), \n",
    "    np.std(RQ1[RQ1['project_name'].isin(industry_projects)]['perc RR'])))"
   ]
  },
  {
   "cell_type": "code",
   "execution_count": 18,
   "metadata": {},
   "outputs": [
    {
     "name": "stdout",
     "output_type": "stream",
     "text": [
      "Overall:\n",
      "Mean % requirements in Tasks: 0.28, with std of 0.24\n",
      "Mean % requirements in requirements items: 0.61, with std of 0.17 \n",
      "\n"
     ]
    }
   ],
   "source": [
    "print('Overall:')\n",
    "print('Mean % requirements in Tasks: {:0.2f}, with std of {:0.2f}\\nMean % requirements in requirements items: {:0.2f}, with std of {:0.2f} \\n'.format(\n",
    "    np.mean(RQ1['perc Task']), np.std(RQ1['perc Task']), np.mean(RQ1['perc RR']), np.std(RQ1['perc RR'])))"
   ]
  },
  {
   "cell_type": "code",
   "execution_count": null,
   "metadata": {},
   "outputs": [],
   "source": []
  },
  {
   "cell_type": "markdown",
   "metadata": {},
   "source": [
    "#### Boxplot"
   ]
  },
  {
   "cell_type": "code",
   "execution_count": 19,
   "metadata": {},
   "outputs": [],
   "source": [
    "import seaborn as sns\n",
    "import matplotlib.pyplot as plt"
   ]
  },
  {
   "cell_type": "code",
   "execution_count": 20,
   "metadata": {},
   "outputs": [],
   "source": [
    "RQ1_boxplot = RQ1[[\"perc Task\",\"perc RR\"]]\n",
    "RQ1_boxplot.columns = ['Tasks', 'Requirements-related']"
   ]
  },
  {
   "cell_type": "code",
   "execution_count": 21,
   "metadata": {},
   "outputs": [
    {
     "data": {
      "image/png": "[encoded data removed]",
      "text/plain": [
       "<Figure size 640x480 with 1 Axes>"
      ]
     },
     "metadata": {},
     "output_type": "display_data"
    }
   ],
   "source": [
    "sns.boxplot(data= RQ1_boxplot, width=0.4)\n",
    "plt.title('RQ1: Requirements in task-labeled items VS requirements-labeled items.')\n",
    "plt.ylabel('Percentage requirements')\n",
    "plt.grid(axis='y')\n",
    "plt.savefig(\"RQ1.pdf\", format=\"pdf\")\n",
    "plt.show()\n"
   ]
  },
  {
   "cell_type": "markdown",
   "metadata": {},
   "source": [
    "#### Hypothesis testing"
   ]
  },
  {
   "cell_type": "code",
   "execution_count": 22,
   "metadata": {},
   "outputs": [
    {
     "data": {
      "text/plain": [
       "0     0.00\n",
       "1     0.20\n",
       "2     0.28\n",
       "3     0.73\n",
       "4     0.15\n",
       "5     0.25\n",
       "6     0.29\n",
       "7     0.00\n",
       "8     0.79\n",
       "9     0.22\n",
       "10    0.30\n",
       "11    0.00\n",
       "12    0.14\n",
       "13    0.00\n",
       "Name: perc Task, dtype: float64"
      ]
     },
     "execution_count": 22,
     "metadata": {},
     "output_type": "execute_result"
    }
   ],
   "source": [
    "RQ1['perc Task'].fillna(0)"
   ]
  },
  {
   "cell_type": "code",
   "execution_count": 23,
   "metadata": {},
   "outputs": [],
   "source": [
    "import scipy.stats as stats"
   ]
  },
  {
   "cell_type": "code",
   "execution_count": 30,
   "metadata": {},
   "outputs": [
    {
     "data": {
      "text/plain": [
       "MannwhitneyuResult(statistic=173.0, pvalue=0.0001343334180862785)"
      ]
     },
     "execution_count": 30,
     "metadata": {},
     "output_type": "execute_result"
    }
   ],
   "source": [
    "stats.mannwhitneyu(x=RQ1['perc RR'], y=RQ1['perc Task'].fillna(0), alternative = 'greater',method=\"exact\")"
   ]
  },
  {
   "cell_type": "code",
   "execution_count": 25,
   "metadata": {},
   "outputs": [
    {
     "data": {
      "text/plain": [
       "(333, 1295)"
      ]
     },
     "execution_count": 25,
     "metadata": {},
     "output_type": "execute_result"
    }
   ],
   "source": [
    "len(df_rq1_task), len(df_rq1_rr)"
   ]
  },
  {
   "cell_type": "code",
   "execution_count": null,
   "metadata": {},
   "outputs": [],
   "source": []
  },
  {
   "cell_type": "code",
   "execution_count": 27,
   "metadata": {},
   "outputs": [
    {
     "data": {
      "text/plain": [
       "1.806797500279233"
      ]
     },
     "execution_count": 27,
     "metadata": {},
     "output_type": "execute_result"
    }
   ],
   "source": [
    "#(np.mean(RQ1['perc RR']) - np.mean(RQ1['perc Task'].fillna(0))) / (((np.std(RQ1['perc RR'])** 2 + np.std(RQ1['perc Task'].fillna(0)) ** 2) / 2)**(1/2))\n"
   ]
  },
  {
   "cell_type": "markdown",
   "metadata": {},
   "source": [
    "## RQ2"
   ]
  },
  {
   "cell_type": "code",
   "execution_count": 31,
   "metadata": {},
   "outputs": [],
   "source": [
    "RQ2 = df.groupby('project_name')[cols].sum() #.reset_index()\n",
    "RQ2['total req'] = RQ2.sum(axis = 1)"
   ]
  },
  {
   "cell_type": "code",
   "execution_count": 32,
   "metadata": {},
   "outputs": [],
   "source": [
    "RQ2 = RQ2.reset_index()"
   ]
  },
  {
   "cell_type": "code",
   "execution_count": 33,
   "metadata": {},
   "outputs": [],
   "source": [
    "#count_items_per_project = df.groupby('project_name').count()['id'].reset_index()"
   ]
  },
  {
   "cell_type": "code",
   "execution_count": 34,
   "metadata": {},
   "outputs": [
    {
     "data": {
      "text/html": [
       "<div>\n",
       "<style scoped>\n",
       "    .dataframe tbody tr th:only-of-type {\n",
       "        vertical-align: middle;\n",
       "    }\n",
       "\n",
       "    .dataframe tbody tr th {\n",
       "        vertical-align: top;\n",
       "    }\n",
       "\n",
       "    .dataframe thead th {\n",
       "        text-align: right;\n",
       "    }\n",
       "</style>\n",
       "<table border=\"1\" class=\"dataframe\">\n",
       "  <thead>\n",
       "    <tr style=\"text-align: right;\">\n",
       "      <th></th>\n",
       "      <th>project_name</th>\n",
       "      <th>high_user</th>\n",
       "      <th>high_system</th>\n",
       "      <th>high_nfr</th>\n",
       "      <th>medium_user</th>\n",
       "      <th>medium_system</th>\n",
       "      <th>medium_nfr</th>\n",
       "      <th>low_user</th>\n",
       "      <th>low_system</th>\n",
       "      <th>low_nfr</th>\n",
       "      <th>total req</th>\n",
       "    </tr>\n",
       "  </thead>\n",
       "  <tbody>\n",
       "    <tr>\n",
       "      <th>0</th>\n",
       "      <td>Company</td>\n",
       "      <td>0.0</td>\n",
       "      <td>0.0</td>\n",
       "      <td>0.0</td>\n",
       "      <td>1.0</td>\n",
       "      <td>16.0</td>\n",
       "      <td>2.0</td>\n",
       "      <td>3.0</td>\n",
       "      <td>43.0</td>\n",
       "      <td>3.0</td>\n",
       "      <td>68.0</td>\n",
       "    </tr>\n",
       "    <tr>\n",
       "      <th>1</th>\n",
       "      <td>Control</td>\n",
       "      <td>5.0</td>\n",
       "      <td>0.0</td>\n",
       "      <td>3.0</td>\n",
       "      <td>41.0</td>\n",
       "      <td>6.0</td>\n",
       "      <td>16.0</td>\n",
       "      <td>121.0</td>\n",
       "      <td>17.0</td>\n",
       "      <td>15.0</td>\n",
       "      <td>224.0</td>\n",
       "    </tr>\n",
       "    <tr>\n",
       "      <th>2</th>\n",
       "      <td>Cost_Management</td>\n",
       "      <td>10.0</td>\n",
       "      <td>4.0</td>\n",
       "      <td>14.0</td>\n",
       "      <td>58.0</td>\n",
       "      <td>38.0</td>\n",
       "      <td>22.0</td>\n",
       "      <td>22.0</td>\n",
       "      <td>56.0</td>\n",
       "      <td>15.0</td>\n",
       "      <td>239.0</td>\n",
       "    </tr>\n",
       "    <tr>\n",
       "      <th>3</th>\n",
       "      <td>Data</td>\n",
       "      <td>5.0</td>\n",
       "      <td>0.0</td>\n",
       "      <td>2.0</td>\n",
       "      <td>33.0</td>\n",
       "      <td>0.0</td>\n",
       "      <td>15.0</td>\n",
       "      <td>88.0</td>\n",
       "      <td>0.0</td>\n",
       "      <td>2.0</td>\n",
       "      <td>145.0</td>\n",
       "    </tr>\n",
       "    <tr>\n",
       "      <th>4</th>\n",
       "      <td>Jira_Performance_Testing_Tools</td>\n",
       "      <td>2.0</td>\n",
       "      <td>0.0</td>\n",
       "      <td>3.0</td>\n",
       "      <td>37.0</td>\n",
       "      <td>1.0</td>\n",
       "      <td>19.0</td>\n",
       "      <td>7.0</td>\n",
       "      <td>4.0</td>\n",
       "      <td>5.0</td>\n",
       "      <td>78.0</td>\n",
       "    </tr>\n",
       "    <tr>\n",
       "      <th>5</th>\n",
       "      <td>Learn</td>\n",
       "      <td>4.0</td>\n",
       "      <td>0.0</td>\n",
       "      <td>2.0</td>\n",
       "      <td>54.0</td>\n",
       "      <td>5.0</td>\n",
       "      <td>5.0</td>\n",
       "      <td>72.0</td>\n",
       "      <td>8.0</td>\n",
       "      <td>7.0</td>\n",
       "      <td>157.0</td>\n",
       "    </tr>\n",
       "    <tr>\n",
       "      <th>6</th>\n",
       "      <td>Lyrasis Dura Cloud</td>\n",
       "      <td>0.0</td>\n",
       "      <td>0.0</td>\n",
       "      <td>1.0</td>\n",
       "      <td>36.0</td>\n",
       "      <td>10.0</td>\n",
       "      <td>53.0</td>\n",
       "      <td>1.0</td>\n",
       "      <td>0.0</td>\n",
       "      <td>2.0</td>\n",
       "      <td>103.0</td>\n",
       "    </tr>\n",
       "    <tr>\n",
       "      <th>7</th>\n",
       "      <td>Network_Observability</td>\n",
       "      <td>3.0</td>\n",
       "      <td>0.0</td>\n",
       "      <td>0.0</td>\n",
       "      <td>19.0</td>\n",
       "      <td>19.0</td>\n",
       "      <td>16.0</td>\n",
       "      <td>7.0</td>\n",
       "      <td>2.0</td>\n",
       "      <td>0.0</td>\n",
       "      <td>66.0</td>\n",
       "    </tr>\n",
       "    <tr>\n",
       "      <th>8</th>\n",
       "      <td>OpenShift_UX_Product_Design</td>\n",
       "      <td>5.0</td>\n",
       "      <td>2.0</td>\n",
       "      <td>7.0</td>\n",
       "      <td>54.0</td>\n",
       "      <td>8.0</td>\n",
       "      <td>55.0</td>\n",
       "      <td>17.0</td>\n",
       "      <td>0.0</td>\n",
       "      <td>11.0</td>\n",
       "      <td>159.0</td>\n",
       "    </tr>\n",
       "    <tr>\n",
       "      <th>9</th>\n",
       "      <td>Portfolio</td>\n",
       "      <td>0.0</td>\n",
       "      <td>0.0</td>\n",
       "      <td>0.0</td>\n",
       "      <td>28.0</td>\n",
       "      <td>9.0</td>\n",
       "      <td>9.0</td>\n",
       "      <td>93.0</td>\n",
       "      <td>29.0</td>\n",
       "      <td>7.0</td>\n",
       "      <td>175.0</td>\n",
       "    </tr>\n",
       "    <tr>\n",
       "      <th>10</th>\n",
       "      <td>Qt_Design_Studio</td>\n",
       "      <td>6.0</td>\n",
       "      <td>0.0</td>\n",
       "      <td>2.0</td>\n",
       "      <td>48.0</td>\n",
       "      <td>0.0</td>\n",
       "      <td>31.0</td>\n",
       "      <td>9.0</td>\n",
       "      <td>1.0</td>\n",
       "      <td>0.0</td>\n",
       "      <td>97.0</td>\n",
       "    </tr>\n",
       "    <tr>\n",
       "      <th>11</th>\n",
       "      <td>Red_Hat_Developer_Website_v2</td>\n",
       "      <td>3.0</td>\n",
       "      <td>1.0</td>\n",
       "      <td>6.0</td>\n",
       "      <td>45.0</td>\n",
       "      <td>5.0</td>\n",
       "      <td>15.0</td>\n",
       "      <td>90.0</td>\n",
       "      <td>10.0</td>\n",
       "      <td>10.0</td>\n",
       "      <td>185.0</td>\n",
       "    </tr>\n",
       "    <tr>\n",
       "      <th>12</th>\n",
       "      <td>Service</td>\n",
       "      <td>1.0</td>\n",
       "      <td>1.0</td>\n",
       "      <td>0.0</td>\n",
       "      <td>56.0</td>\n",
       "      <td>2.0</td>\n",
       "      <td>6.0</td>\n",
       "      <td>0.0</td>\n",
       "      <td>0.0</td>\n",
       "      <td>0.0</td>\n",
       "      <td>66.0</td>\n",
       "    </tr>\n",
       "    <tr>\n",
       "      <th>13</th>\n",
       "      <td>Store</td>\n",
       "      <td>2.0</td>\n",
       "      <td>2.0</td>\n",
       "      <td>5.0</td>\n",
       "      <td>17.0</td>\n",
       "      <td>9.0</td>\n",
       "      <td>14.0</td>\n",
       "      <td>15.0</td>\n",
       "      <td>27.0</td>\n",
       "      <td>7.0</td>\n",
       "      <td>98.0</td>\n",
       "    </tr>\n",
       "  </tbody>\n",
       "</table>\n",
       "</div>"
      ],
      "text/plain": [
       "                      project_name  high_user  high_system  high_nfr   \n",
       "0                          Company        0.0          0.0       0.0  \\\n",
       "1                          Control        5.0          0.0       3.0   \n",
       "2                  Cost_Management       10.0          4.0      14.0   \n",
       "3                             Data        5.0          0.0       2.0   \n",
       "4   Jira_Performance_Testing_Tools        2.0          0.0       3.0   \n",
       "5                            Learn        4.0          0.0       2.0   \n",
       "6               Lyrasis Dura Cloud        0.0          0.0       1.0   \n",
       "7            Network_Observability        3.0          0.0       0.0   \n",
       "8      OpenShift_UX_Product_Design        5.0          2.0       7.0   \n",
       "9                        Portfolio        0.0          0.0       0.0   \n",
       "10                Qt_Design_Studio        6.0          0.0       2.0   \n",
       "11    Red_Hat_Developer_Website_v2        3.0          1.0       6.0   \n",
       "12                         Service        1.0          1.0       0.0   \n",
       "13                           Store        2.0          2.0       5.0   \n",
       "\n",
       "    medium_user  medium_system  medium_nfr  low_user  low_system  low_nfr   \n",
       "0           1.0           16.0         2.0       3.0        43.0      3.0  \\\n",
       "1          41.0            6.0        16.0     121.0        17.0     15.0   \n",
       "2          58.0           38.0        22.0      22.0        56.0     15.0   \n",
       "3          33.0            0.0        15.0      88.0         0.0      2.0   \n",
       "4          37.0            1.0        19.0       7.0         4.0      5.0   \n",
       "5          54.0            5.0         5.0      72.0         8.0      7.0   \n",
       "6          36.0           10.0        53.0       1.0         0.0      2.0   \n",
       "7          19.0           19.0        16.0       7.0         2.0      0.0   \n",
       "8          54.0            8.0        55.0      17.0         0.0     11.0   \n",
       "9          28.0            9.0         9.0      93.0        29.0      7.0   \n",
       "10         48.0            0.0        31.0       9.0         1.0      0.0   \n",
       "11         45.0            5.0        15.0      90.0        10.0     10.0   \n",
       "12         56.0            2.0         6.0       0.0         0.0      0.0   \n",
       "13         17.0            9.0        14.0      15.0        27.0      7.0   \n",
       "\n",
       "    total req  \n",
       "0        68.0  \n",
       "1       224.0  \n",
       "2       239.0  \n",
       "3       145.0  \n",
       "4        78.0  \n",
       "5       157.0  \n",
       "6       103.0  \n",
       "7        66.0  \n",
       "8       159.0  \n",
       "9       175.0  \n",
       "10       97.0  \n",
       "11      185.0  \n",
       "12       66.0  \n",
       "13       98.0  "
      ]
     },
     "execution_count": 34,
     "metadata": {},
     "output_type": "execute_result"
    }
   ],
   "source": [
    "RQ2"
   ]
  },
  {
   "cell_type": "code",
   "execution_count": 35,
   "metadata": {},
   "outputs": [],
   "source": [
    "categories = RQ2.columns[1:-1]"
   ]
  },
  {
   "cell_type": "code",
   "execution_count": 36,
   "metadata": {},
   "outputs": [],
   "source": [
    "RQ2_perc = pd.DataFrame({row['project_name']:(row[categories]/ row['total req']).to_dict() for i,row in RQ2.iterrows()}).transpose()\n",
    "    \n",
    "    #row_perc.to_dict()"
   ]
  },
  {
   "cell_type": "code",
   "execution_count": 37,
   "metadata": {},
   "outputs": [
    {
     "data": {
      "text/html": [
       "<div>\n",
       "<style scoped>\n",
       "    .dataframe tbody tr th:only-of-type {\n",
       "        vertical-align: middle;\n",
       "    }\n",
       "\n",
       "    .dataframe tbody tr th {\n",
       "        vertical-align: top;\n",
       "    }\n",
       "\n",
       "    .dataframe thead th {\n",
       "        text-align: right;\n",
       "    }\n",
       "</style>\n",
       "<table border=\"1\" class=\"dataframe\">\n",
       "  <thead>\n",
       "    <tr style=\"text-align: right;\">\n",
       "      <th></th>\n",
       "      <th>high_user</th>\n",
       "      <th>high_system</th>\n",
       "      <th>high_nfr</th>\n",
       "      <th>medium_user</th>\n",
       "      <th>medium_system</th>\n",
       "      <th>medium_nfr</th>\n",
       "      <th>low_user</th>\n",
       "      <th>low_system</th>\n",
       "      <th>low_nfr</th>\n",
       "    </tr>\n",
       "  </thead>\n",
       "  <tbody>\n",
       "    <tr>\n",
       "      <th>Company</th>\n",
       "      <td>0.000000</td>\n",
       "      <td>0.000000</td>\n",
       "      <td>0.000000</td>\n",
       "      <td>0.014706</td>\n",
       "      <td>0.235294</td>\n",
       "      <td>0.029412</td>\n",
       "      <td>0.044118</td>\n",
       "      <td>0.632353</td>\n",
       "      <td>0.044118</td>\n",
       "    </tr>\n",
       "    <tr>\n",
       "      <th>Control</th>\n",
       "      <td>0.022321</td>\n",
       "      <td>0.000000</td>\n",
       "      <td>0.013393</td>\n",
       "      <td>0.183036</td>\n",
       "      <td>0.026786</td>\n",
       "      <td>0.071429</td>\n",
       "      <td>0.540179</td>\n",
       "      <td>0.075893</td>\n",
       "      <td>0.066964</td>\n",
       "    </tr>\n",
       "    <tr>\n",
       "      <th>Cost_Management</th>\n",
       "      <td>0.041841</td>\n",
       "      <td>0.016736</td>\n",
       "      <td>0.058577</td>\n",
       "      <td>0.242678</td>\n",
       "      <td>0.158996</td>\n",
       "      <td>0.092050</td>\n",
       "      <td>0.092050</td>\n",
       "      <td>0.234310</td>\n",
       "      <td>0.062762</td>\n",
       "    </tr>\n",
       "    <tr>\n",
       "      <th>Data</th>\n",
       "      <td>0.034483</td>\n",
       "      <td>0.000000</td>\n",
       "      <td>0.013793</td>\n",
       "      <td>0.227586</td>\n",
       "      <td>0.000000</td>\n",
       "      <td>0.103448</td>\n",
       "      <td>0.606897</td>\n",
       "      <td>0.000000</td>\n",
       "      <td>0.013793</td>\n",
       "    </tr>\n",
       "    <tr>\n",
       "      <th>Jira_Performance_Testing_Tools</th>\n",
       "      <td>0.025641</td>\n",
       "      <td>0.000000</td>\n",
       "      <td>0.038462</td>\n",
       "      <td>0.474359</td>\n",
       "      <td>0.012821</td>\n",
       "      <td>0.243590</td>\n",
       "      <td>0.089744</td>\n",
       "      <td>0.051282</td>\n",
       "      <td>0.064103</td>\n",
       "    </tr>\n",
       "    <tr>\n",
       "      <th>Learn</th>\n",
       "      <td>0.025478</td>\n",
       "      <td>0.000000</td>\n",
       "      <td>0.012739</td>\n",
       "      <td>0.343949</td>\n",
       "      <td>0.031847</td>\n",
       "      <td>0.031847</td>\n",
       "      <td>0.458599</td>\n",
       "      <td>0.050955</td>\n",
       "      <td>0.044586</td>\n",
       "    </tr>\n",
       "    <tr>\n",
       "      <th>Lyrasis Dura Cloud</th>\n",
       "      <td>0.000000</td>\n",
       "      <td>0.000000</td>\n",
       "      <td>0.009709</td>\n",
       "      <td>0.349515</td>\n",
       "      <td>0.097087</td>\n",
       "      <td>0.514563</td>\n",
       "      <td>0.009709</td>\n",
       "      <td>0.000000</td>\n",
       "      <td>0.019417</td>\n",
       "    </tr>\n",
       "    <tr>\n",
       "      <th>Network_Observability</th>\n",
       "      <td>0.045455</td>\n",
       "      <td>0.000000</td>\n",
       "      <td>0.000000</td>\n",
       "      <td>0.287879</td>\n",
       "      <td>0.287879</td>\n",
       "      <td>0.242424</td>\n",
       "      <td>0.106061</td>\n",
       "      <td>0.030303</td>\n",
       "      <td>0.000000</td>\n",
       "    </tr>\n",
       "    <tr>\n",
       "      <th>OpenShift_UX_Product_Design</th>\n",
       "      <td>0.031447</td>\n",
       "      <td>0.012579</td>\n",
       "      <td>0.044025</td>\n",
       "      <td>0.339623</td>\n",
       "      <td>0.050314</td>\n",
       "      <td>0.345912</td>\n",
       "      <td>0.106918</td>\n",
       "      <td>0.000000</td>\n",
       "      <td>0.069182</td>\n",
       "    </tr>\n",
       "    <tr>\n",
       "      <th>Portfolio</th>\n",
       "      <td>0.000000</td>\n",
       "      <td>0.000000</td>\n",
       "      <td>0.000000</td>\n",
       "      <td>0.160000</td>\n",
       "      <td>0.051429</td>\n",
       "      <td>0.051429</td>\n",
       "      <td>0.531429</td>\n",
       "      <td>0.165714</td>\n",
       "      <td>0.040000</td>\n",
       "    </tr>\n",
       "    <tr>\n",
       "      <th>Qt_Design_Studio</th>\n",
       "      <td>0.061856</td>\n",
       "      <td>0.000000</td>\n",
       "      <td>0.020619</td>\n",
       "      <td>0.494845</td>\n",
       "      <td>0.000000</td>\n",
       "      <td>0.319588</td>\n",
       "      <td>0.092784</td>\n",
       "      <td>0.010309</td>\n",
       "      <td>0.000000</td>\n",
       "    </tr>\n",
       "    <tr>\n",
       "      <th>Red_Hat_Developer_Website_v2</th>\n",
       "      <td>0.016216</td>\n",
       "      <td>0.005405</td>\n",
       "      <td>0.032432</td>\n",
       "      <td>0.243243</td>\n",
       "      <td>0.027027</td>\n",
       "      <td>0.081081</td>\n",
       "      <td>0.486486</td>\n",
       "      <td>0.054054</td>\n",
       "      <td>0.054054</td>\n",
       "    </tr>\n",
       "    <tr>\n",
       "      <th>Service</th>\n",
       "      <td>0.015152</td>\n",
       "      <td>0.015152</td>\n",
       "      <td>0.000000</td>\n",
       "      <td>0.848485</td>\n",
       "      <td>0.030303</td>\n",
       "      <td>0.090909</td>\n",
       "      <td>0.000000</td>\n",
       "      <td>0.000000</td>\n",
       "      <td>0.000000</td>\n",
       "    </tr>\n",
       "    <tr>\n",
       "      <th>Store</th>\n",
       "      <td>0.020408</td>\n",
       "      <td>0.020408</td>\n",
       "      <td>0.051020</td>\n",
       "      <td>0.173469</td>\n",
       "      <td>0.091837</td>\n",
       "      <td>0.142857</td>\n",
       "      <td>0.153061</td>\n",
       "      <td>0.275510</td>\n",
       "      <td>0.071429</td>\n",
       "    </tr>\n",
       "  </tbody>\n",
       "</table>\n",
       "</div>"
      ],
      "text/plain": [
       "                                high_user  high_system  high_nfr  medium_user   \n",
       "Company                          0.000000     0.000000  0.000000     0.014706  \\\n",
       "Control                          0.022321     0.000000  0.013393     0.183036   \n",
       "Cost_Management                  0.041841     0.016736  0.058577     0.242678   \n",
       "Data                             0.034483     0.000000  0.013793     0.227586   \n",
       "Jira_Performance_Testing_Tools   0.025641     0.000000  0.038462     0.474359   \n",
       "Learn                            0.025478     0.000000  0.012739     0.343949   \n",
       "Lyrasis Dura Cloud               0.000000     0.000000  0.009709     0.349515   \n",
       "Network_Observability            0.045455     0.000000  0.000000     0.287879   \n",
       "OpenShift_UX_Product_Design      0.031447     0.012579  0.044025     0.339623   \n",
       "Portfolio                        0.000000     0.000000  0.000000     0.160000   \n",
       "Qt_Design_Studio                 0.061856     0.000000  0.020619     0.494845   \n",
       "Red_Hat_Developer_Website_v2     0.016216     0.005405  0.032432     0.243243   \n",
       "Service                          0.015152     0.015152  0.000000     0.848485   \n",
       "Store                            0.020408     0.020408  0.051020     0.173469   \n",
       "\n",
       "                                medium_system  medium_nfr  low_user   \n",
       "Company                              0.235294    0.029412  0.044118  \\\n",
       "Control                              0.026786    0.071429  0.540179   \n",
       "Cost_Management                      0.158996    0.092050  0.092050   \n",
       "Data                                 0.000000    0.103448  0.606897   \n",
       "Jira_Performance_Testing_Tools       0.012821    0.243590  0.089744   \n",
       "Learn                                0.031847    0.031847  0.458599   \n",
       "Lyrasis Dura Cloud                   0.097087    0.514563  0.009709   \n",
       "Network_Observability                0.287879    0.242424  0.106061   \n",
       "OpenShift_UX_Product_Design          0.050314    0.345912  0.106918   \n",
       "Portfolio                            0.051429    0.051429  0.531429   \n",
       "Qt_Design_Studio                     0.000000    0.319588  0.092784   \n",
       "Red_Hat_Developer_Website_v2         0.027027    0.081081  0.486486   \n",
       "Service                              0.030303    0.090909  0.000000   \n",
       "Store                                0.091837    0.142857  0.153061   \n",
       "\n",
       "                                low_system   low_nfr  \n",
       "Company                           0.632353  0.044118  \n",
       "Control                           0.075893  0.066964  \n",
       "Cost_Management                   0.234310  0.062762  \n",
       "Data                              0.000000  0.013793  \n",
       "Jira_Performance_Testing_Tools    0.051282  0.064103  \n",
       "Learn                             0.050955  0.044586  \n",
       "Lyrasis Dura Cloud                0.000000  0.019417  \n",
       "Network_Observability             0.030303  0.000000  \n",
       "OpenShift_UX_Product_Design       0.000000  0.069182  \n",
       "Portfolio                         0.165714  0.040000  \n",
       "Qt_Design_Studio                  0.010309  0.000000  \n",
       "Red_Hat_Developer_Website_v2      0.054054  0.054054  \n",
       "Service                           0.000000  0.000000  \n",
       "Store                             0.275510  0.071429  "
      ]
     },
     "execution_count": 37,
     "metadata": {},
     "output_type": "execute_result"
    }
   ],
   "source": [
    "RQ2_perc"
   ]
  },
  {
   "cell_type": "code",
   "execution_count": 45,
   "metadata": {},
   "outputs": [
    {
     "data": {
      "text/html": [
       "<div>\n",
       "<style scoped>\n",
       "    .dataframe tbody tr th:only-of-type {\n",
       "        vertical-align: middle;\n",
       "    }\n",
       "\n",
       "    .dataframe tbody tr th {\n",
       "        vertical-align: top;\n",
       "    }\n",
       "\n",
       "    .dataframe thead th {\n",
       "        text-align: right;\n",
       "    }\n",
       "</style>\n",
       "<table border=\"1\" class=\"dataframe\">\n",
       "  <thead>\n",
       "    <tr style=\"text-align: right;\">\n",
       "      <th></th>\n",
       "      <th>low_user</th>\n",
       "      <th>low_system</th>\n",
       "      <th>low_nfr</th>\n",
       "      <th>medium_user</th>\n",
       "      <th>medium_system</th>\n",
       "      <th>medium_nfr</th>\n",
       "      <th>high_user</th>\n",
       "      <th>high_system</th>\n",
       "      <th>high_nfr</th>\n",
       "    </tr>\n",
       "  </thead>\n",
       "  <tbody>\n",
       "    <tr>\n",
       "      <th>count</th>\n",
       "      <td>14.000000</td>\n",
       "      <td>14.000000</td>\n",
       "      <td>14.000000</td>\n",
       "      <td>14.000000</td>\n",
       "      <td>14.000000</td>\n",
       "      <td>14.000000</td>\n",
       "      <td>14.000000</td>\n",
       "      <td>14.000000</td>\n",
       "      <td>14.000000</td>\n",
       "    </tr>\n",
       "    <tr>\n",
       "      <th>mean</th>\n",
       "      <td>0.237002</td>\n",
       "      <td>0.112906</td>\n",
       "      <td>0.039315</td>\n",
       "      <td>0.313098</td>\n",
       "      <td>0.078687</td>\n",
       "      <td>0.168610</td>\n",
       "      <td>0.024307</td>\n",
       "      <td>0.005020</td>\n",
       "      <td>0.021055</td>\n",
       "    </tr>\n",
       "    <tr>\n",
       "      <th>std</th>\n",
       "      <td>0.228106</td>\n",
       "      <td>0.174224</td>\n",
       "      <td>0.027463</td>\n",
       "      <td>0.199101</td>\n",
       "      <td>0.089191</td>\n",
       "      <td>0.144305</td>\n",
       "      <td>0.018109</td>\n",
       "      <td>0.007650</td>\n",
       "      <td>0.020284</td>\n",
       "    </tr>\n",
       "    <tr>\n",
       "      <th>min</th>\n",
       "      <td>0.000000</td>\n",
       "      <td>0.000000</td>\n",
       "      <td>0.000000</td>\n",
       "      <td>0.014706</td>\n",
       "      <td>0.000000</td>\n",
       "      <td>0.029412</td>\n",
       "      <td>0.000000</td>\n",
       "      <td>0.000000</td>\n",
       "      <td>0.000000</td>\n",
       "    </tr>\n",
       "    <tr>\n",
       "      <th>25%</th>\n",
       "      <td>0.090320</td>\n",
       "      <td>0.002577</td>\n",
       "      <td>0.015199</td>\n",
       "      <td>0.194173</td>\n",
       "      <td>0.026846</td>\n",
       "      <td>0.073842</td>\n",
       "      <td>0.015418</td>\n",
       "      <td>0.000000</td>\n",
       "      <td>0.002427</td>\n",
       "    </tr>\n",
       "    <tr>\n",
       "      <th>50%</th>\n",
       "      <td>0.106489</td>\n",
       "      <td>0.051119</td>\n",
       "      <td>0.044352</td>\n",
       "      <td>0.265561</td>\n",
       "      <td>0.041081</td>\n",
       "      <td>0.097749</td>\n",
       "      <td>0.023900</td>\n",
       "      <td>0.000000</td>\n",
       "      <td>0.013593</td>\n",
       "    </tr>\n",
       "    <tr>\n",
       "      <th>75%</th>\n",
       "      <td>0.479515</td>\n",
       "      <td>0.143259</td>\n",
       "      <td>0.063767</td>\n",
       "      <td>0.348123</td>\n",
       "      <td>0.095775</td>\n",
       "      <td>0.243298</td>\n",
       "      <td>0.033724</td>\n",
       "      <td>0.010785</td>\n",
       "      <td>0.036954</td>\n",
       "    </tr>\n",
       "    <tr>\n",
       "      <th>max</th>\n",
       "      <td>0.606897</td>\n",
       "      <td>0.632353</td>\n",
       "      <td>0.071429</td>\n",
       "      <td>0.848485</td>\n",
       "      <td>0.287879</td>\n",
       "      <td>0.514563</td>\n",
       "      <td>0.061856</td>\n",
       "      <td>0.020408</td>\n",
       "      <td>0.058577</td>\n",
       "    </tr>\n",
       "  </tbody>\n",
       "</table>\n",
       "</div>"
      ],
      "text/plain": [
       "        low_user  low_system    low_nfr  medium_user  medium_system   \n",
       "count  14.000000   14.000000  14.000000    14.000000      14.000000  \\\n",
       "mean    0.237002    0.112906   0.039315     0.313098       0.078687   \n",
       "std     0.228106    0.174224   0.027463     0.199101       0.089191   \n",
       "min     0.000000    0.000000   0.000000     0.014706       0.000000   \n",
       "25%     0.090320    0.002577   0.015199     0.194173       0.026846   \n",
       "50%     0.106489    0.051119   0.044352     0.265561       0.041081   \n",
       "75%     0.479515    0.143259   0.063767     0.348123       0.095775   \n",
       "max     0.606897    0.632353   0.071429     0.848485       0.287879   \n",
       "\n",
       "       medium_nfr  high_user  high_system   high_nfr  \n",
       "count   14.000000  14.000000    14.000000  14.000000  \n",
       "mean     0.168610   0.024307     0.005020   0.021055  \n",
       "std      0.144305   0.018109     0.007650   0.020284  \n",
       "min      0.029412   0.000000     0.000000   0.000000  \n",
       "25%      0.073842   0.015418     0.000000   0.002427  \n",
       "50%      0.097749   0.023900     0.000000   0.013593  \n",
       "75%      0.243298   0.033724     0.010785   0.036954  \n",
       "max      0.514563   0.061856     0.020408   0.058577  "
      ]
     },
     "execution_count": 45,
     "metadata": {},
     "output_type": "execute_result"
    }
   ],
   "source": [
    "RQ2_perc.describe() "
   ]
  },
  {
   "cell_type": "code",
   "execution_count": null,
   "metadata": {},
   "outputs": [],
   "source": []
  },
  {
   "cell_type": "markdown",
   "metadata": {},
   "source": [
    "#### Boxplots"
   ]
  },
  {
   "cell_type": "code",
   "execution_count": 39,
   "metadata": {},
   "outputs": [],
   "source": [
    "RQ2_perc = RQ2_perc[['low_user', 'low_system', 'low_nfr', 'medium_user', 'medium_system', 'medium_nfr','high_user', 'high_system', 'high_nfr']]"
   ]
  },
  {
   "cell_type": "code",
   "execution_count": 40,
   "metadata": {},
   "outputs": [],
   "source": [
    "company_df = RQ2_perc.loc[['Company', 'Control', 'Data', 'Learn', 'Portfolio', 'Service', 'Store']]\n",
    "oss_df = RQ2_perc.loc[['Cost_Management', 'Jira_Performance_Testing_Tools', 'Lyrasis Dura Cloud', 'Network_Observability', 'OpenShift_UX_Product_Design', 'Qt_Design_Studio', 'Red_Hat_Developer_Website_v2']]"
   ]
  },
  {
   "cell_type": "code",
   "execution_count": 41,
   "metadata": {},
   "outputs": [],
   "source": [
    "from itertools import chain\n"
   ]
  },
  {
   "cell_type": "code",
   "execution_count": 42,
   "metadata": {},
   "outputs": [],
   "source": [
    "company_df.columns = ['low user', 'low system', 'low nfr','medium user', 'medium system',\n",
    "       'medium nfr',  'high user', 'high system', 'high nfr']\n",
    "oss_df.columns = ['low user', 'low system', 'low nfr','medium user', 'medium system',\n",
    "       'medium nfr',  'high user', 'high system', 'high nfr']\n",
    "company_df_raw = company_df.to_dict('index')\n",
    "oss_df_raw = oss_df.to_dict('index')\n",
    "company_df_rq2 = pd.DataFrame([{'combination': k_sub, 'project': k, 'perc': v_sub } for k, v in company_df_raw.items() for k_sub, v_sub in v.items() ])\n",
    "oss_df_rq2 = pd.DataFrame([{'combination': k_sub, 'project': k, 'perc': v_sub } for k, v in oss_df_raw.items() for k_sub, v_sub in v.items() ])\n",
    "\n",
    "company_df_rq2['project category'] = ['proprietary'] * len(company_df_rq2)\n",
    "oss_df_rq2['project category'] = ['OSS'] * len(oss_df_rq2)\n",
    "\n",
    "df_rq2 = pd.concat([oss_df_rq2, company_df_rq2])\n",
    "\n",
    "df_rq2['granularity'] = df_rq2['combination'].str.split(' ').str[0]\n",
    "df_rq2['type'] = df_rq2['combination'].str.split(' ').str[1]"
   ]
  },
  {
   "cell_type": "code",
   "execution_count": 43,
   "metadata": {},
   "outputs": [
    {
     "data": {
      "image/png": "[encoded data removed]",
      "text/plain": [
       "<Figure size 1200x900 with 1 Axes>"
      ]
     },
     "metadata": {},
     "output_type": "display_data"
    }
   ],
   "source": [
    "plt.figure(figsize=(12, 9))\n",
    "sns.set(style=\"ticks\")\n",
    "g= sns.boxplot(data= df_rq2, x= 'combination', y = 'perc', hue = 'project category', width=0.6)\n",
    "plt.title('RQ2: appearance of type & granularity level', fontsize=20)\n",
    "plt.ylabel('Percentage appearance', fontsize=18)\n",
    "plt.grid(axis='y')\n",
    "plt.xlabel('', fontsize=18)\n",
    "plt.setp(g.get_xticklabels(), rotation=25, fontsize=18)\n",
    "plt.savefig(\"RQ2-2.pdf\", format=\"pdf\", pad_inches = 0.01, bbox_inches = 'tight')\n",
    "plt.show()"
   ]
  },
  {
   "cell_type": "code",
   "execution_count": 44,
   "metadata": {},
   "outputs": [],
   "source": [
    "RQ2.to_excel('RQ2.xlsx')"
   ]
  },
  {
   "cell_type": "markdown",
   "metadata": {},
   "source": [
    "## RQ3"
   ]
  },
  {
   "cell_type": "code",
   "execution_count": 66,
   "metadata": {},
   "outputs": [],
   "source": [
    "def check_mutliple_label_sum(row):\n",
    "    present_codes = row[cols] > 0\n",
    "    if present_codes.sum() > 0:\n",
    "        return tuple(present_codes[present_codes].index)\n",
    "    else:\n",
    "        return ()"
   ]
  },
  {
   "cell_type": "code",
   "execution_count": 67,
   "metadata": {},
   "outputs": [],
   "source": [
    "cols2 = ['high_nfr', 'medium_nfr', 'low_user',\n",
    "       'medium_system', 'high_system', 'high_user', 'low_nfr', 'medium_user',\n",
    "       'low_system']\n",
    "df['sum multi label'] = df[cols2].sum(axis = 1)\n",
    "df['multi_label'] = [check_mutliple_label_sum(row) for i, row in df.iterrows()]"
   ]
  },
  {
   "cell_type": "code",
   "execution_count": 68,
   "metadata": {},
   "outputs": [],
   "source": [
    "cols2 = ['high_nfr', 'medium_nfr', 'low_user',\n",
    "       'medium_system', 'high_system', 'high_user', 'low_nfr', 'medium_user',\n",
    "       'low_system']"
   ]
  },
  {
   "cell_type": "code",
   "execution_count": 69,
   "metadata": {},
   "outputs": [],
   "source": [
    "df['sum multi label'] = df[cols2].sum(axis = 1) #[['file_name', 'multi_label']]"
   ]
  },
  {
   "cell_type": "code",
   "execution_count": 70,
   "metadata": {},
   "outputs": [],
   "source": [
    "RQ3 = df.groupby(['project_name', 'multi_label']).count()['id'].reset_index()"
   ]
  },
  {
   "cell_type": "code",
   "execution_count": 71,
   "metadata": {},
   "outputs": [],
   "source": [
    "RQ3['mutliple'] = [1 if len(multi_label) > 1 else 0 for multi_label in RQ3['multi_label']] "
   ]
  },
  {
   "cell_type": "code",
   "execution_count": 78,
   "metadata": {},
   "outputs": [],
   "source": [
    "RQ3_0_multiple = RQ3[RQ3['multi_label'].apply(len) > 1].groupby('project_name').sum(['id'])['id'].reset_index()\n",
    "RQ3_0_multiple.rename(columns = {'id': 'multiple'}, inplace = True)\n",
    "RQ3_0_single = RQ3[RQ3['multi_label'].apply(len) == 1].groupby('project_name').sum(['id'])['id'].reset_index()\n",
    "RQ3_0_single.rename(columns = {'id': 'single'}, inplace = True)"
   ]
  },
  {
   "cell_type": "code",
   "execution_count": null,
   "metadata": {},
   "outputs": [],
   "source": []
  },
  {
   "cell_type": "code",
   "execution_count": 83,
   "metadata": {},
   "outputs": [
    {
     "data": {
      "text/html": [
       "<div>\n",
       "<style scoped>\n",
       "    .dataframe tbody tr th:only-of-type {\n",
       "        vertical-align: middle;\n",
       "    }\n",
       "\n",
       "    .dataframe tbody tr th {\n",
       "        vertical-align: top;\n",
       "    }\n",
       "\n",
       "    .dataframe thead th {\n",
       "        text-align: right;\n",
       "    }\n",
       "</style>\n",
       "<table border=\"1\" class=\"dataframe\">\n",
       "  <thead>\n",
       "    <tr style=\"text-align: right;\">\n",
       "      <th></th>\n",
       "      <th>project_name</th>\n",
       "      <th>multiple</th>\n",
       "      <th>single</th>\n",
       "      <th>perc_multiple</th>\n",
       "      <th>perc_single</th>\n",
       "    </tr>\n",
       "  </thead>\n",
       "  <tbody>\n",
       "    <tr>\n",
       "      <th>0</th>\n",
       "      <td>Company</td>\n",
       "      <td>18</td>\n",
       "      <td>1</td>\n",
       "      <td>0.947</td>\n",
       "      <td>0.053</td>\n",
       "    </tr>\n",
       "    <tr>\n",
       "      <th>1</th>\n",
       "      <td>Control</td>\n",
       "      <td>43</td>\n",
       "      <td>25</td>\n",
       "      <td>0.632</td>\n",
       "      <td>0.368</td>\n",
       "    </tr>\n",
       "    <tr>\n",
       "      <th>2</th>\n",
       "      <td>Cost_Management</td>\n",
       "      <td>47</td>\n",
       "      <td>40</td>\n",
       "      <td>0.540</td>\n",
       "      <td>0.460</td>\n",
       "    </tr>\n",
       "    <tr>\n",
       "      <th>3</th>\n",
       "      <td>Data</td>\n",
       "      <td>28</td>\n",
       "      <td>23</td>\n",
       "      <td>0.549</td>\n",
       "      <td>0.451</td>\n",
       "    </tr>\n",
       "    <tr>\n",
       "      <th>4</th>\n",
       "      <td>Jira_Performance_Testing_Tools</td>\n",
       "      <td>8</td>\n",
       "      <td>49</td>\n",
       "      <td>0.140</td>\n",
       "      <td>0.860</td>\n",
       "    </tr>\n",
       "    <tr>\n",
       "      <th>5</th>\n",
       "      <td>Learn</td>\n",
       "      <td>26</td>\n",
       "      <td>36</td>\n",
       "      <td>0.419</td>\n",
       "      <td>0.581</td>\n",
       "    </tr>\n",
       "    <tr>\n",
       "      <th>6</th>\n",
       "      <td>Lyrasis Dura Cloud</td>\n",
       "      <td>19</td>\n",
       "      <td>62</td>\n",
       "      <td>0.235</td>\n",
       "      <td>0.765</td>\n",
       "    </tr>\n",
       "    <tr>\n",
       "      <th>7</th>\n",
       "      <td>Network_Observability</td>\n",
       "      <td>12</td>\n",
       "      <td>30</td>\n",
       "      <td>0.286</td>\n",
       "      <td>0.714</td>\n",
       "    </tr>\n",
       "    <tr>\n",
       "      <th>8</th>\n",
       "      <td>OpenShift_UX_Product_Design</td>\n",
       "      <td>42</td>\n",
       "      <td>36</td>\n",
       "      <td>0.538</td>\n",
       "      <td>0.462</td>\n",
       "    </tr>\n",
       "    <tr>\n",
       "      <th>9</th>\n",
       "      <td>Portfolio</td>\n",
       "      <td>35</td>\n",
       "      <td>12</td>\n",
       "      <td>0.745</td>\n",
       "      <td>0.255</td>\n",
       "    </tr>\n",
       "    <tr>\n",
       "      <th>10</th>\n",
       "      <td>Qt_Design_Studio</td>\n",
       "      <td>11</td>\n",
       "      <td>56</td>\n",
       "      <td>0.164</td>\n",
       "      <td>0.836</td>\n",
       "    </tr>\n",
       "    <tr>\n",
       "      <th>11</th>\n",
       "      <td>Red_Hat_Developer_Website_v2</td>\n",
       "      <td>33</td>\n",
       "      <td>43</td>\n",
       "      <td>0.434</td>\n",
       "      <td>0.566</td>\n",
       "    </tr>\n",
       "    <tr>\n",
       "      <th>12</th>\n",
       "      <td>Service</td>\n",
       "      <td>3</td>\n",
       "      <td>60</td>\n",
       "      <td>0.048</td>\n",
       "      <td>0.952</td>\n",
       "    </tr>\n",
       "    <tr>\n",
       "      <th>13</th>\n",
       "      <td>Store</td>\n",
       "      <td>22</td>\n",
       "      <td>18</td>\n",
       "      <td>0.550</td>\n",
       "      <td>0.450</td>\n",
       "    </tr>\n",
       "  </tbody>\n",
       "</table>\n",
       "</div>"
      ],
      "text/plain": [
       "                      project_name  multiple  single  perc_multiple   \n",
       "0                          Company        18       1          0.947  \\\n",
       "1                          Control        43      25          0.632   \n",
       "2                  Cost_Management        47      40          0.540   \n",
       "3                             Data        28      23          0.549   \n",
       "4   Jira_Performance_Testing_Tools         8      49          0.140   \n",
       "5                            Learn        26      36          0.419   \n",
       "6               Lyrasis Dura Cloud        19      62          0.235   \n",
       "7            Network_Observability        12      30          0.286   \n",
       "8      OpenShift_UX_Product_Design        42      36          0.538   \n",
       "9                        Portfolio        35      12          0.745   \n",
       "10                Qt_Design_Studio        11      56          0.164   \n",
       "11    Red_Hat_Developer_Website_v2        33      43          0.434   \n",
       "12                         Service         3      60          0.048   \n",
       "13                           Store        22      18          0.550   \n",
       "\n",
       "    perc_single  \n",
       "0         0.053  \n",
       "1         0.368  \n",
       "2         0.460  \n",
       "3         0.451  \n",
       "4         0.860  \n",
       "5         0.581  \n",
       "6         0.765  \n",
       "7         0.714  \n",
       "8         0.462  \n",
       "9         0.255  \n",
       "10        0.836  \n",
       "11        0.566  \n",
       "12        0.952  \n",
       "13        0.450  "
      ]
     },
     "execution_count": 83,
     "metadata": {},
     "output_type": "execute_result"
    }
   ],
   "source": [
    "RQ3_0 = pd.merge(RQ3_0_multiple,RQ3_0_single, on = 'project_name')\n",
    "RQ3_0['perc_multiple'] = (RQ3_0['multiple']/ ( RQ3_0['multiple']+ RQ3_0['single'])).round(3)\n",
    "RQ3_0['perc_single'] = (RQ3_0['single']/ ( RQ3_0['multiple']+ RQ3_0['single'])).round(3)\n",
    "RQ3_0"
   ]
  },
  {
   "cell_type": "code",
   "execution_count": 86,
   "metadata": {},
   "outputs": [
    {
     "name": "stdout",
     "output_type": "stream",
     "text": [
      "0.5557142857142858 0.25947623854092483\n",
      "0.3338571428571429 0.15706816406664117\n"
     ]
    }
   ],
   "source": [
    "print(np.mean(RQ3_0[RQ3_0['project_name'].isin(industry_projects)]['perc_multiple']),np.std(RQ3_0[RQ3_0['project_name'].isin(industry_projects)]['perc_multiple']))\n",
    "print(np.mean(RQ3_0[RQ3_0['project_name'].isin(oss_projects)]['perc_multiple']),np.std(RQ3_0[RQ3_0['project_name'].isin(oss_projects)]['perc_multiple']))\n"
   ]
  },
  {
   "cell_type": "code",
   "execution_count": 87,
   "metadata": {},
   "outputs": [
    {
     "name": "stdout",
     "output_type": "stream",
     "text": [
      "0.4447857142857143 0.24146285682168553\n"
     ]
    }
   ],
   "source": [
    "print(np.mean(RQ3_0['perc_multiple']), np.std(RQ3_0['perc_multiple']))\n"
   ]
  },
  {
   "cell_type": "code",
   "execution_count": 75,
   "metadata": {},
   "outputs": [],
   "source": [
    "RQ3.to_excel('RQ3_0.xlsx')"
   ]
  },
  {
   "cell_type": "code",
   "execution_count": null,
   "metadata": {},
   "outputs": [],
   "source": []
  },
  {
   "cell_type": "code",
   "execution_count": null,
   "metadata": {},
   "outputs": [],
   "source": []
  },
  {
   "cell_type": "code",
   "execution_count": 88,
   "metadata": {},
   "outputs": [],
   "source": [
    "n = 10\n",
    "RQ3_1 = df.groupby(['multi_label']).count()['id'].reset_index()\n",
    "RQ3_1 = RQ3_1[RQ3_1['multi_label'].apply(len) > 1].sort_values('id',ascending=False)\n",
    "combined_rq3 = RQ3[RQ3['multi_label'].isin(RQ3_1.head(n)['multi_label'].to_list())]"
   ]
  },
  {
   "cell_type": "code",
   "execution_count": 89,
   "metadata": {},
   "outputs": [],
   "source": [
    "combined_rq3.loc[:,'multi_label'] = combined_rq3['multi_label'].astype('string')"
   ]
  },
  {
   "cell_type": "code",
   "execution_count": 90,
   "metadata": {},
   "outputs": [],
   "source": [
    "#RQ3[RQ3['multi_label'].isin(RQ3_1.head(8)['multi_label'].to_list())].to_excel('RQ3_2.xlsx')\n",
    "converted_dict = {}\n",
    "for row in combined_rq3.to_dict('records'):\n",
    "    if row['project_name'] not in converted_dict.keys():\n",
    "        converted_dict[row['project_name']] = {row['multi_label']: row['id']}\n",
    "    else:\n",
    "        converted_dict[row['project_name']] = converted_dict[row['project_name']] | {row['multi_label']: row['id']}"
   ]
  },
  {
   "cell_type": "code",
   "execution_count": 91,
   "metadata": {},
   "outputs": [],
   "source": [
    "#list(np.concatenate([[fname]*n for fname in RQ3['file_name'].unique()]))\n",
    "combined_rq3_per_project = pd.DataFrame(converted_dict).fillna(0).reset_index() \n",
    "combined_rq3_per_project = combined_rq3_per_project.rename(columns = {'index':'multi_label'})"
   ]
  },
  {
   "cell_type": "code",
   "execution_count": 92,
   "metadata": {},
   "outputs": [],
   "source": [
    "RQ3_1['multi_label'] = RQ3_1['multi_label'].astype('string')"
   ]
  },
  {
   "cell_type": "code",
   "execution_count": 95,
   "metadata": {},
   "outputs": [],
   "source": [
    "RQ3_1.head(n).merge(combined_rq3_per_project, on = 'multi_label', how = 'left').to_excel('RQ3_1.xlsx')"
   ]
  },
  {
   "cell_type": "code",
   "execution_count": null,
   "metadata": {},
   "outputs": [],
   "source": []
  },
  {
   "cell_type": "markdown",
   "metadata": {},
   "source": [
    "# RQ4"
   ]
  },
  {
   "cell_type": "code",
   "execution_count": 96,
   "metadata": {},
   "outputs": [],
   "source": [
    "df = pd.read_excel('categories_per_item2.xlsx')"
   ]
  },
  {
   "cell_type": "code",
   "execution_count": 98,
   "metadata": {},
   "outputs": [],
   "source": [
    "df['sum'] = df[categories].sum(axis=1)"
   ]
  },
  {
   "cell_type": "code",
   "execution_count": 99,
   "metadata": {},
   "outputs": [],
   "source": [
    "RQ4 = df[df['sum'] >0].groupby('project_name').agg(['sum', 'count'])['motivation'][['sum', 'count']].reset_index()"
   ]
  },
  {
   "cell_type": "code",
   "execution_count": 100,
   "metadata": {},
   "outputs": [],
   "source": [
    "RQ4['perc motivation'] = (RQ4['sum']/RQ4['count']).round(3)"
   ]
  },
  {
   "cell_type": "code",
   "execution_count": 101,
   "metadata": {},
   "outputs": [
    {
     "data": {
      "text/html": [
       "<div>\n",
       "<style scoped>\n",
       "    .dataframe tbody tr th:only-of-type {\n",
       "        vertical-align: middle;\n",
       "    }\n",
       "\n",
       "    .dataframe tbody tr th {\n",
       "        vertical-align: top;\n",
       "    }\n",
       "\n",
       "    .dataframe thead th {\n",
       "        text-align: right;\n",
       "    }\n",
       "</style>\n",
       "<table border=\"1\" class=\"dataframe\">\n",
       "  <thead>\n",
       "    <tr style=\"text-align: right;\">\n",
       "      <th></th>\n",
       "      <th>project_name</th>\n",
       "      <th>sum</th>\n",
       "      <th>count</th>\n",
       "      <th>perc motivation</th>\n",
       "    </tr>\n",
       "  </thead>\n",
       "  <tbody>\n",
       "    <tr>\n",
       "      <th>0</th>\n",
       "      <td>Company</td>\n",
       "      <td>7</td>\n",
       "      <td>19</td>\n",
       "      <td>0.368</td>\n",
       "    </tr>\n",
       "    <tr>\n",
       "      <th>1</th>\n",
       "      <td>Control</td>\n",
       "      <td>6</td>\n",
       "      <td>68</td>\n",
       "      <td>0.088</td>\n",
       "    </tr>\n",
       "    <tr>\n",
       "      <th>2</th>\n",
       "      <td>Cost_Management</td>\n",
       "      <td>47</td>\n",
       "      <td>87</td>\n",
       "      <td>0.540</td>\n",
       "    </tr>\n",
       "    <tr>\n",
       "      <th>3</th>\n",
       "      <td>Data</td>\n",
       "      <td>27</td>\n",
       "      <td>51</td>\n",
       "      <td>0.529</td>\n",
       "    </tr>\n",
       "    <tr>\n",
       "      <th>4</th>\n",
       "      <td>Jira_Performance_Testing_Tools</td>\n",
       "      <td>37</td>\n",
       "      <td>57</td>\n",
       "      <td>0.649</td>\n",
       "    </tr>\n",
       "    <tr>\n",
       "      <th>5</th>\n",
       "      <td>Learn</td>\n",
       "      <td>12</td>\n",
       "      <td>62</td>\n",
       "      <td>0.194</td>\n",
       "    </tr>\n",
       "    <tr>\n",
       "      <th>6</th>\n",
       "      <td>Lyrasis Dura Cloud</td>\n",
       "      <td>31</td>\n",
       "      <td>81</td>\n",
       "      <td>0.383</td>\n",
       "    </tr>\n",
       "    <tr>\n",
       "      <th>7</th>\n",
       "      <td>Network_Observability</td>\n",
       "      <td>10</td>\n",
       "      <td>42</td>\n",
       "      <td>0.238</td>\n",
       "    </tr>\n",
       "    <tr>\n",
       "      <th>8</th>\n",
       "      <td>OpenShift_UX_Product_Design</td>\n",
       "      <td>38</td>\n",
       "      <td>78</td>\n",
       "      <td>0.487</td>\n",
       "    </tr>\n",
       "    <tr>\n",
       "      <th>9</th>\n",
       "      <td>Portfolio</td>\n",
       "      <td>15</td>\n",
       "      <td>47</td>\n",
       "      <td>0.319</td>\n",
       "    </tr>\n",
       "    <tr>\n",
       "      <th>10</th>\n",
       "      <td>Qt_Design_Studio</td>\n",
       "      <td>18</td>\n",
       "      <td>67</td>\n",
       "      <td>0.269</td>\n",
       "    </tr>\n",
       "    <tr>\n",
       "      <th>11</th>\n",
       "      <td>Red_Hat_Developer_Website_v2</td>\n",
       "      <td>13</td>\n",
       "      <td>76</td>\n",
       "      <td>0.171</td>\n",
       "    </tr>\n",
       "    <tr>\n",
       "      <th>12</th>\n",
       "      <td>Service</td>\n",
       "      <td>33</td>\n",
       "      <td>63</td>\n",
       "      <td>0.524</td>\n",
       "    </tr>\n",
       "    <tr>\n",
       "      <th>13</th>\n",
       "      <td>Store</td>\n",
       "      <td>21</td>\n",
       "      <td>40</td>\n",
       "      <td>0.525</td>\n",
       "    </tr>\n",
       "  </tbody>\n",
       "</table>\n",
       "</div>"
      ],
      "text/plain": [
       "                      project_name  sum  count  perc motivation\n",
       "0                          Company    7     19            0.368\n",
       "1                          Control    6     68            0.088\n",
       "2                  Cost_Management   47     87            0.540\n",
       "3                             Data   27     51            0.529\n",
       "4   Jira_Performance_Testing_Tools   37     57            0.649\n",
       "5                            Learn   12     62            0.194\n",
       "6               Lyrasis Dura Cloud   31     81            0.383\n",
       "7            Network_Observability   10     42            0.238\n",
       "8      OpenShift_UX_Product_Design   38     78            0.487\n",
       "9                        Portfolio   15     47            0.319\n",
       "10                Qt_Design_Studio   18     67            0.269\n",
       "11    Red_Hat_Developer_Website_v2   13     76            0.171\n",
       "12                         Service   33     63            0.524\n",
       "13                           Store   21     40            0.525"
      ]
     },
     "execution_count": 101,
     "metadata": {},
     "output_type": "execute_result"
    }
   ],
   "source": [
    "RQ4"
   ]
  },
  {
   "cell_type": "code",
   "execution_count": null,
   "metadata": {},
   "outputs": [],
   "source": []
  },
  {
   "cell_type": "code",
   "execution_count": 63,
   "metadata": {},
   "outputs": [
    {
     "name": "stdout",
     "output_type": "stream",
     "text": [
      "0.391 0.1624535098332531\n"
     ]
    }
   ],
   "source": [
    "print(np.mean(RQ4[RQ4['project_name'].isin(oss_projects)]['perc motivation']),\n",
    "np.std(RQ4[RQ4['project_name'].isin(oss_projects)]['perc motivation']))"
   ]
  },
  {
   "cell_type": "code",
   "execution_count": 64,
   "metadata": {},
   "outputs": [
    {
     "name": "stdout",
     "output_type": "stream",
     "text": [
      "0.3638571428571429 0.16294734344165873\n"
     ]
    }
   ],
   "source": [
    "print(np.mean(RQ4[RQ4['project_name'].isin(industry_projects)]['perc motivation']),\n",
    "np.std(RQ4[RQ4['project_name'].isin(industry_projects)]['perc motivation']))"
   ]
  },
  {
   "cell_type": "code",
   "execution_count": 65,
   "metadata": {},
   "outputs": [
    {
     "name": "stdout",
     "output_type": "stream",
     "text": [
      "0.3774285714285715 0.16326565306085586\n"
     ]
    }
   ],
   "source": [
    "print(np.mean(RQ4['perc motivation']),\n",
    "np.std(RQ4['perc motivation']))"
   ]
  },
  {
   "cell_type": "code",
   "execution_count": null,
   "metadata": {},
   "outputs": [],
   "source": []
  }
 ],
 "metadata": {
  "kernelspec": {
   "display_name": "env_usst",
   "language": "python",
   "name": "python3"
  },
  "language_info": {
   "codemirror_mode": {
    "name": "ipython",
    "version": 3
   },
   "file_extension": ".py",
   "mimetype": "text/x-python",
   "name": "python",
   "nbconvert_exporter": "python",
   "pygments_lexer": "ipython3",
   "version": "3.9.16"
  }
 },
 "nbformat": 4,
 "nbformat_minor": 2
}
